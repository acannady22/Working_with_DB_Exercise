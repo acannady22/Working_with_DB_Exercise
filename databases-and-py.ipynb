{
    "metadata": {
        "kernelspec": {
            "name": "python3",
            "display_name": "Python 3 (ipykernel)",
            "language": "python"
        },
        "language_info": {
            "name": "python",
            "version": "3.9.12",
            "mimetype": "text/x-python",
            "codemirror_mode": {
                "name": "ipython",
                "version": 3
            },
            "pygments_lexer": "ipython3",
            "nbconvert_exporter": "python",
            "file_extension": ".py"
        }
    },
    "nbformat_minor": 2,
    "nbformat": 4,
    "cells": [
        {
            "cell_type": "markdown",
            "source": [
                "# Exercises: Working with Databases in Python\n",
                "\n",
                "For the exercises, we will be practicing the steps outlined in this [article](https://towardsdatascience.com/do-you-know-python-has-a-built-in-database-d553989c87bd). You can skip the portion where the author downloads a separate SQL client to examine the database. "
            ],
            "metadata": {
                "azdata_cell_guid": "d7b89799-a102-479f-87b7-f2759ff1962e"
            },
            "attachments": {}
        },
        {
            "cell_type": "markdown",
            "source": [
                "## Import Libraries\n",
                "\n",
                "We will need `pandas` and `sqlite3`. SQLite is a small, self-contained database engine that comes with Python so you will not have to do any additional installations for this lesson. If you want to connect to a different database engine, such as SQL server, you may need additional libraries such as `sqlalchemy` or `pyodbc` and a tool called a driver which helps to connect a database to an application.\n",
                ""
            ],
            "metadata": {
                "azdata_cell_guid": "89a0b6d9-821d-44f5-9795-9519809b9108"
            },
            "attachments": {}
        },
        {
            "cell_type": "code",
            "source": [
                "# Import sqlite3 and pandas.\n",
                "import pandas as pd\n",
                "import sqlite3  "
            ],
            "metadata": {
                "azdata_cell_guid": "865655b0-22e9-47f4-a5df-4bfe97dda4a3",
                "tags": [],
                "language": "python"
            },
            "outputs": [],
            "execution_count": 10
        },
        {
            "cell_type": "markdown",
            "source": [
                "## Create a Database\n",
                "\n",
                "In the article, the author shows how to use `sqlite3` to open a connection to an existing database or create a new one. Use this method to make a new database called `exercises.db`."
            ],
            "metadata": {
                "azdata_cell_guid": "be8436e2-68be-47f8-9fc9-06c235a6a128"
            }
        },
        {
            "cell_type": "code",
            "source": [
                "# Create a new database called exercises.db.\n",
                "conn = sqlite3.connect('test.db')\n",
                "\n",
                "print (\"Opened database successfully\"); "
            ],
            "metadata": {
                "azdata_cell_guid": "707abc33-c6ee-416e-9358-c799f1fcbb12",
                "language": "python"
            },
            "outputs": [
                {
                    "name": "stdout",
                    "text": "Opened database successfully\n",
                    "output_type": "stream"
                }
            ],
            "execution_count": 11
        },
        {
            "cell_type": "markdown",
            "source": [
                "## Create a Table\n",
                "\n",
                "Follow the steps in the article to create a table called `favorite_books.db`. This table should include columns for the title, author, and a short description of why it is a favorite."
            ],
            "metadata": {
                "azdata_cell_guid": "dc9df060-ddc9-4573-bd74-3c97323f85a7"
            },
            "attachments": {}
        },
        {
            "cell_type": "code",
            "source": [
                "# Create a new table in your database.\n",
                "conn = sql.connect('test.db')\n",
                "\n",
                "print (\"Opened database successfully\");\n",
                "\n",
                "conn.execute('''favoite_books.db \n",
                "    (Id  int    primary key not null,\n",
                "    Title   text    not null,\n",
                "    Author  text    not nill, \n",
                "    Description text    not null\n",
                "); ''')\n",
                "print (\"Table created successfully\"); \n",
                "\n",
                "conn.close()"
            ],
            "metadata": {
                "azdata_cell_guid": "3cc6b80e-3fa2-4d2e-b2a9-1ea5d68ba01e",
                "language": "python"
            },
            "outputs": [
                {
                    "name": "stdout",
                    "text": "Opened database successfully\n",
                    "output_type": "stream"
                },
                {
                    "traceback": [
                        "\u001b[0;31m---------------------------------------------------------------------------\u001b[0m",
                        "\u001b[0;31mOperationalError\u001b[0m                          Traceback (most recent call last)",
                        "Input \u001b[0;32mIn [12]\u001b[0m, in \u001b[0;36m<cell line: 6>\u001b[0;34m()\u001b[0m\n\u001b[1;32m      2\u001b[0m conn \u001b[38;5;241m=\u001b[39m sql\u001b[38;5;241m.\u001b[39mconnect(\u001b[38;5;124m'\u001b[39m\u001b[38;5;124mtest.db\u001b[39m\u001b[38;5;124m'\u001b[39m)\n\u001b[1;32m      4\u001b[0m \u001b[38;5;28mprint\u001b[39m (\u001b[38;5;124m\"\u001b[39m\u001b[38;5;124mOpened database successfully\u001b[39m\u001b[38;5;124m\"\u001b[39m);\n\u001b[0;32m----> 6\u001b[0m \u001b[43mconn\u001b[49m\u001b[38;5;241;43m.\u001b[39;49m\u001b[43mexecute\u001b[49m\u001b[43m(\u001b[49m\u001b[38;5;124;43m'''\u001b[39;49m\u001b[38;5;124;43mfavoite_books.db \u001b[39;49m\n\u001b[1;32m      7\u001b[0m \u001b[38;5;124;43m    (Id  int    primary key not null,\u001b[39;49m\n\u001b[1;32m      8\u001b[0m \u001b[38;5;124;43m    Title   text    not null,\u001b[39;49m\n\u001b[1;32m      9\u001b[0m \u001b[38;5;124;43m    Author  text    not nill, \u001b[39;49m\n\u001b[1;32m     10\u001b[0m \u001b[38;5;124;43m    Description text    not null\u001b[39;49m\n\u001b[1;32m     11\u001b[0m \u001b[38;5;124;43m); \u001b[39;49m\u001b[38;5;124;43m'''\u001b[39;49m\u001b[43m)\u001b[49m\n\u001b[1;32m     12\u001b[0m \u001b[38;5;28mprint\u001b[39m (\u001b[38;5;124m\"\u001b[39m\u001b[38;5;124mTable created successfully\u001b[39m\u001b[38;5;124m\"\u001b[39m); \n\u001b[1;32m     14\u001b[0m conn\u001b[38;5;241m.\u001b[39mclose()\n",
                        "\u001b[0;31mOperationalError\u001b[0m: near \"favoite_books\": syntax error"
                    ],
                    "ename": "OperationalError",
                    "evalue": "near \"favoite_books\": syntax error",
                    "output_type": "error"
                }
            ],
            "execution_count": 12
        },
        {
            "cell_type": "markdown",
            "source": [
                "## Insert Records\n",
                "\n",
                "Add 3 entries to your table for your top 3 favorite books."
            ],
            "metadata": {
                "azdata_cell_guid": "e9acec60-1485-45c8-9f12-997f959d44cc"
            }
        },
        {
            "cell_type": "code",
            "source": [
                "# Add your 3 favorite books to your table.\n",
                "conn.execute(\"INSERT INTO favoite_books.db (Id, Title, Author, Description) \\\n",
                "    VALUES (1, 'book title 1', 'author 1', 'description 1')\");\n",
                "\n",
                "conn.execute(\"INSERT INTO favorite_books.db (\"Id, Title, Author, Description) \\\n",
                "    VALUES (2, 'book title 2', 'author 2', 'description 2')\");\n",
                "\n",
                "conn.execute(\"INSERT INTO favoite_books.db (Id, Title, Author, Description) \\\n",
                "    VALUES (3, 'book title 3', 'author 3', 'description 3')\");"
            ],
            "metadata": {
                "azdata_cell_guid": "c7b8e386-f3f4-42ad-aa91-a2da2e7904a5",
                "language": "python"
            },
            "outputs": [
                {
                    "traceback": [
                        "\u001b[0;36m  Input \u001b[0;32mIn [13]\u001b[0;36m\u001b[0m\n\u001b[0;31m    conn.execute(\"INSERT INTO favorite_books.db (\"Id, Title, Author, Description) \\\u001b[0m\n\u001b[0m                                                  ^\u001b[0m\n\u001b[0;31mSyntaxError\u001b[0m\u001b[0;31m:\u001b[0m invalid syntax\n"
                    ],
                    "ename": "SyntaxError",
                    "evalue": "invalid syntax (1965744339.py, line 5)",
                    "output_type": "error"
                }
            ],
            "execution_count": 13
        },
        {
            "cell_type": "markdown",
            "source": [
                "## Query Your Table\n",
                "\n",
                "Write a `SELECT` query to output the 3 records in your table."
            ],
            "metadata": {
                "azdata_cell_guid": "b2e48ba7-b418-4418-bb16-598fb82b964c"
            },
            "attachments": {}
        },
        {
            "cell_type": "code",
            "source": [
                "# Write your SELECT query here.\n",
                "SELECT *\n",
                "FROM test.db.favorite_books"
            ],
            "metadata": {
                "azdata_cell_guid": "c341e7e2-d635-4c26-b744-237c762f7f41",
                "tags": [],
                "language": "python"
            },
            "outputs": [
                {
                    "traceback": [
                        "\u001b[0;36m  Input \u001b[0;32mIn [15]\u001b[0;36m\u001b[0m\n\u001b[0;31m    SELECT *\u001b[0m\n\u001b[0m            ^\u001b[0m\n\u001b[0;31mSyntaxError\u001b[0m\u001b[0;31m:\u001b[0m invalid syntax\n"
                    ],
                    "ename": "SyntaxError",
                    "evalue": "invalid syntax (4020785288.py, line 2)",
                    "output_type": "error"
                }
            ],
            "execution_count": 15
        },
        {
            "cell_type": "markdown",
            "source": [
                "## Create a New Table with Pandas\n",
                "\n",
                "Create a new table called `favorite_movies` with your top 3 favorite movies. Each movie should have an id and a title. This time, use Pandas to first make a dataframe and then write the dataframe to SQL. Write a `SELECT` query to confirm that the new table does have your top 3 favorite movies."
            ],
            "metadata": {
                "azdata_cell_guid": "2127737d-71cd-4f0d-a84e-b1db8ad54af7"
            }
        },
        {
            "cell_type": "code",
            "source": [
                "# Use Pandas to make a new table in your database.\n",
                "favorite_movies = {'Id':  ['1', '2', '3'],\n",
                "        'Title': ['Title 1', 'Title 2', 'Title 3']\n",
                "        }\n",
                "\n",
                "df = pd.DataFrame(favorite_movies)\n",
                "\n",
                "print(df)"
            ],
            "metadata": {
                "azdata_cell_guid": "b4b6dd20-ccc0-42e7-b1e7-79d8596b3f9c",
                "language": "python"
            },
            "outputs": [
                {
                    "name": "stdout",
                    "text": "  Id    Title\n0  1  Title 1\n1  2  Title 2\n2  3  Title 3\n",
                    "output_type": "stream"
                }
            ],
            "execution_count": 19
        },
        {
            "cell_type": "code",
            "source": [
                "import sqlite3 \n",
                "conn = sqlite3.connect('test_database')\n",
                "c = conn.cursor()\n",
                "\n",
                "c.execute('CREATE TABLE IF NOT EXISTS favorite_movies (Id number, Title text)')\n",
                "conn.commit()\n",
                "\n",
                "data = {'Id': ['1','2','3'],\n",
                "        'Title': ['Movie 1', 'Movie 2', 'Movie 3']\n",
                "\n",
                "df = pd.DataFrame(data, columns= ['Id','Title'])\n",
                "df.to_sql('favorite_movies', conn, if_exists='replace', index = False)\n",
                "\n",
                "c.execute('''  \n",
                "SELECT * FROM products\n",
                "          ''')\n",
                "\n",
                "for row in c.fetchall():\n",
                "    print (row)\n",
                ""
            ],
            "metadata": {
                "azdata_cell_guid": "2121be43-a0ae-4f3d-9d87-2a0d2fc2500f",
                "language": "python"
            },
            "outputs": [
                {
                    "traceback": [
                        "\u001b[0;36m  Input \u001b[0;32mIn [23]\u001b[0;36m\u001b[0m\n\u001b[0;31m    df = pd.DataFrame(data, columns= ['Id','Title'])\u001b[0m\n\u001b[0m    ^\u001b[0m\n\u001b[0;31mSyntaxError\u001b[0m\u001b[0;31m:\u001b[0m invalid syntax\n"
                    ],
                    "ename": "SyntaxError",
                    "evalue": "invalid syntax (1304456752.py, line 11)",
                    "output_type": "error"
                }
            ],
            "execution_count": 23
        },
        {
            "cell_type": "code",
            "source": [
                ""
            ],
            "metadata": {
                "azdata_cell_guid": "28160c11-db26-455a-8a29-25f01d64fcfc",
                "language": "python"
            },
            "outputs": [],
            "execution_count": null
        }
    ]
}